{
 "metadata": {
  "language_info": {
   "codemirror_mode": {
    "name": "ipython",
    "version": 3
   },
   "file_extension": ".py",
   "mimetype": "text/x-python",
   "name": "python",
   "nbconvert_exporter": "python",
   "pygments_lexer": "ipython3",
   "version": "3.7.6-final"
  },
  "orig_nbformat": 2,
  "kernelspec": {
   "name": "Python 3.7.6 64-bit",
   "display_name": "Python 3.7.6 64-bit",
   "metadata": {
    "interpreter": {
     "hash": "6bb880214873ba8e26018f193088565242503ef582aabbfc127a17c6e27c21fa"
    }
   }
  }
 },
 "nbformat": 4,
 "nbformat_minor": 2,
 "cells": [
  {
   "source": [
    "https://github.com/ageron/handson-ml2/blob/master/09_unsupervised_learning.ipynb"
   ],
   "cell_type": "markdown",
   "metadata": {}
  },
  {
   "cell_type": "code",
   "execution_count": 1,
   "metadata": {},
   "outputs": [],
   "source": [
    "# Q11 - Chapter 9 Unsupervised learning\n",
    "import numpy as np\n",
    "import pandas as pd\n",
    "from sklearn.datasets import fetch_olivetti_faces\n",
    "import matplotlib.pyplot as plt"
   ]
  },
  {
   "cell_type": "code",
   "execution_count": 2,
   "metadata": {},
   "outputs": [],
   "source": [
    "olivetti = fetch_olivetti_faces()"
   ]
  },
  {
   "cell_type": "code",
   "execution_count": 3,
   "metadata": {},
   "outputs": [],
   "source": [
    "X = olivetti.data\n",
    "y = olivetti.target"
   ]
  },
  {
   "cell_type": "code",
   "execution_count": 4,
   "metadata": {
    "tags": []
   },
   "outputs": [
    {
     "output_type": "stream",
     "name": "stdout",
     "text": "(280, 4096) (280,)\n(80, 4096) (80,)\n(40, 4096) (40,)\n"
    }
   ],
   "source": [
    "from sklearn.model_selection import StratifiedShuffleSplit\n",
    "strat_split = StratifiedShuffleSplit(n_splits=1, test_size =40, random_state=42) #n_spliits = 1???\n",
    "\n",
    "# This first loop seperates the data set into two - X train AND valid + X_test \n",
    "# So really only gives X_test. X_train_valid will be used in the next loop to further separate train and valid\n",
    "for train_valid_idx, test_idx in strat_split.split(X, y):\n",
    "    X_train_valid, X_test = X[train_valid_idx], X[test_idx]\n",
    "    y_train_valid, y_test = y[train_valid_idx], y[test_idx]\n",
    "\n",
    "# further splits X_train_valid into train + valid\n",
    "strat_split = StratifiedShuffleSplit(n_splits=1, test_size =80, random_state=42)\n",
    "for train_idx, valid_idx in strat_split.split(X_train_valid, y_train_valid):\n",
    "    X_train, X_valid = X_train_valid[train_idx], X_train_valid[valid_idx]\n",
    "    y_train, y_valid = y_train_valid[train_idx], y_train_valid[valid_idx]\n",
    "\n",
    "print(X_train.shape, y_train.shape)\n",
    "print(X_valid.shape, y_valid.shape)\n",
    "print(X_test.shape, y_test.shape)"
   ]
  },
  {
   "cell_type": "code",
   "execution_count": 16,
   "metadata": {
    "tags": []
   },
   "outputs": [
    {
     "output_type": "stream",
     "name": "stdout",
     "text": "(280, 200) (280,)\n(80, 200) (80,)\n(40, 200) (40,)\n"
    },
    {
     "output_type": "execute_result",
     "data": {
      "text/plain": "200"
     },
     "metadata": {},
     "execution_count": 16
    }
   ],
   "source": [
    "from sklearn.decomposition import PCA\n",
    "pca = PCA(0.99)\n",
    "X_train_pca = pca.fit_transform(X_train)\n",
    "X_valid_pca = pca.transform(X_valid)\n",
    "X_test_pca = pca.transform(X_test)\n",
    "\n",
    "# Note in the above code, the train/valid/test has been made, then PCA is used after.\n",
    "# Do a fit_transform on the training data, then ONLY a transform on your valid and test set.\n",
    "\n",
    "print(X_train_pca.shape, y_train.shape)\n",
    "print(X_valid_pca.shape, y_valid.shape)\n",
    "print(X_test_pca.shape, y_test.shape)\n",
    "pca.n_components_"
   ]
  },
  {
   "cell_type": "code",
   "execution_count": 19,
   "metadata": {},
   "outputs": [
    {
     "output_type": "execute_result",
     "data": {
      "text/plain": "0.9375"
     },
     "metadata": {},
     "execution_count": 19
    }
   ],
   "source": [
    "# Train a classifier using RandomForest\n",
    "\n",
    "from sklearn.ensemble import RandomForestClassifier\n",
    "clf = RandomForestClassifier(random_state=42)\n",
    "clf.fit(X_train, y_train)\n",
    "clf.score(X_valid, y_valid)"
   ]
  },
  {
   "cell_type": "code",
   "execution_count": 20,
   "metadata": {},
   "outputs": [
    {
     "output_type": "execute_result",
     "data": {
      "text/plain": "(280, 200)"
     },
     "metadata": {},
     "execution_count": 20
    }
   ],
   "source": [
    "X_train_pca.shape"
   ]
  },
  {
   "cell_type": "code",
   "execution_count": 21,
   "metadata": {},
   "outputs": [
    {
     "output_type": "execute_result",
     "data": {
      "text/plain": "0.8875"
     },
     "metadata": {},
     "execution_count": 21
    }
   ],
   "source": [
    "clf2 = RandomForestClassifier(random_state=42)\n",
    "clf2.fit(X_train_pca, y_train)\n",
    "clf2.score(X_valid_pca, y_valid)"
   ]
  },
  {
   "cell_type": "code",
   "execution_count": 22,
   "metadata": {},
   "outputs": [],
   "source": [
    "# Use KMeans to reduce dimensionality even further\n",
    "\n",
    "from sklearn.cluster import KMeans\n",
    "\n",
    "# from kmeans_1 the best number of clusters was k= 105\n",
    "best_model = KMeans(n_clusters=105, random_state=42).fit(X_train_pca)"
   ]
  },
  {
   "cell_type": "code",
   "execution_count": 23,
   "metadata": {},
   "outputs": [
    {
     "output_type": "execute_result",
     "data": {
      "text/plain": "0.7375"
     },
     "metadata": {},
     "execution_count": 23
    }
   ],
   "source": [
    "X_train_reduced = best_model.transform(X_train_pca)\n",
    "X_valid_reduced = best_model.transform(X_valid_pca)\n",
    "X_test_reduced = best_model.transform(X_test_pca)\n",
    "\n",
    "clf = RandomForestClassifier(random_state=42)\n",
    "clf.fit(X_train_reduced, y_train)\n",
    "    \n",
    "clf.score(X_valid_reduced, y_valid)"
   ]
  },
  {
   "cell_type": "code",
   "execution_count": null,
   "metadata": {},
   "outputs": [],
   "source": []
  }
 ]
}