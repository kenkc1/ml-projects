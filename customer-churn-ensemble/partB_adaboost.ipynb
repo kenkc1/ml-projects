{
 "metadata": {
  "language_info": {
   "codemirror_mode": {
    "name": "ipython",
    "version": 3
   },
   "file_extension": ".py",
   "mimetype": "text/x-python",
   "name": "python",
   "nbconvert_exporter": "python",
   "pygments_lexer": "ipython3",
   "version": "3.8.2-final"
  },
  "orig_nbformat": 2,
  "kernelspec": {
   "name": "python38232bit5c432716f6384d45a99e9dcd13e5b2e9",
   "display_name": "Python 3.8.2 32-bit"
  }
 },
 "nbformat": 4,
 "nbformat_minor": 2,
 "cells": [
  {
   "cell_type": "code",
   "execution_count": 2,
   "metadata": {},
   "outputs": [],
   "source": [
    "import numpy as np\n",
    "import pandas as pd\n",
    "import matplotlib.pyplot as plt\n",
    "import seaborn as sns\n",
    "from sklearn.preprocessing import LabelEncoder, OneHotEncoder\n",
    "from sklearn.model_selection import train_test_split, GridSearchCV, cross_val_score, cross_val_predict, RandomizedSearchCV\n",
    "from sklearn.tree import DecisionTreeClassifier\n",
    "from sklearn.ensemble import RandomForestClassifier, AdaBoostClassifier\n",
    "from sklearn.metrics import classification_report, confusion_matrix, accuracy_score, precision_score, recall_score\n",
    "from sklearn.compose import make_column_transformer"
   ]
  },
  {
   "cell_type": "code",
   "execution_count": 3,
   "metadata": {},
   "outputs": [],
   "source": [
    "data = pd.read_csv('data.csv')"
   ]
  },
  {
   "cell_type": "code",
   "execution_count": 4,
   "metadata": {},
   "outputs": [],
   "source": [
    "# Data processing\n",
    "data = data.iloc[:, 1: ] # removes first column with id's\n",
    "X = data.iloc[:,:-1] # creates feature matrix without churn"
   ]
  },
  {
   "cell_type": "code",
   "execution_count": 5,
   "metadata": {},
   "outputs": [],
   "source": [
    "# One hot encoding\n",
    "column_trans = make_column_transformer((OneHotEncoder(), ['gender', 'SeniorCitizen','Partner', 'Dependents', 'PhoneService', 'MultipleLines', 'InternetService', 'OnlineSecurity', 'OnlineBackup', 'DeviceProtection', 'TechSupport', 'StreamingTV', 'StreamingMovies', 'Contract', 'PaperlessBilling', 'PaymentMethod']), remainder = 'passthrough')\n",
    "\n",
    "# NEW feature matrix\n",
    "X = column_trans.fit_transform(X)\n"
   ]
  },
  {
   "cell_type": "code",
   "execution_count": 6,
   "metadata": {},
   "outputs": [],
   "source": [
    "# Binary encode churn\n",
    "target = data.iloc[:,-1:]\n",
    "y = target.apply(LabelEncoder().fit_transform)"
   ]
  },
  {
   "cell_type": "code",
   "execution_count": 7,
   "metadata": {},
   "outputs": [],
   "source": [
    "X_train, X_test, y_train, y_test = train_test_split(X, y, test_size = 0.3)"
   ]
  },
  {
   "cell_type": "code",
   "execution_count": 20,
   "metadata": {},
   "outputs": [],
   "source": [
    "# Hyperprameter tuning\n",
    "#\n",
    "#params = {\"base_estimator__max_depth\" : [2,4,6,8,10],\n",
    " #             \"n_estimators\": [40, 50, 70, 90]\n",
    "             #}\n",
    "DTC = DecisionTreeClassifier()\n",
    "ABC = AdaBoostClassifier(base_estimator = DTC)\n",
    "random_grid = {'base_estimator__max_depth': [1,2,3,4,5,7], \n",
    "               'base_estimator__min_samples_leaf': [30,100,150,200,300], \n",
    "               'n_estimators': [50,80,100,150,200], \n",
    "               'learning_rate': [0.05, 0.1, 0.5, 1.0]}\n",
    "#grid_search_ABC = GridSearchCV(ABC, params, n_jobs=-1, verbose=1)\n",
    "\n",
    "gridsearch = RandomizedSearchCV(estimator = ABC, param_distributions = random_grid, n_iter = 50, cv = 3, verbose=2, random_state=42, n_jobs = -1, scoring = 'roc_auc')\n"
   ]
  },
  {
   "cell_type": "code",
   "execution_count": 21,
   "metadata": {
    "tags": []
   },
   "outputs": [
    {
     "output_type": "stream",
     "name": "stdout",
     "text": "Fitting 3 folds for each of 50 candidates, totalling 150 fits\n[Parallel(n_jobs=-1)]: Using backend LokyBackend with 8 concurrent workers.\n[Parallel(n_jobs=-1)]: Done  25 tasks      | elapsed:    5.9s\n[Parallel(n_jobs=-1)]: Done 150 out of 150 | elapsed:   34.0s finished\n"
    }
   ],
   "source": [
    "clf = gridsearch.fit(X_train,y_train)"
   ]
  },
  {
   "cell_type": "code",
   "execution_count": 22,
   "metadata": {},
   "outputs": [
    {
     "output_type": "execute_result",
     "data": {
      "text/plain": "{'n_estimators': 150,\n 'learning_rate': 0.05,\n 'base_estimator__min_samples_leaf': 200,\n 'base_estimator__max_depth': 2}"
     },
     "metadata": {},
     "execution_count": 22
    }
   ],
   "source": [
    "clf.best_params_"
   ]
  },
  {
   "cell_type": "code",
   "execution_count": 23,
   "metadata": {
    "tags": []
   },
   "outputs": [
    {
     "output_type": "stream",
     "name": "stdout",
     "text": "TRAIN SET SINGLE prediction scores:\nAccuracy score = 0.8677366924014628\nPrecision score = 0.7994555353901996\nRecall score = 0.6720061022120518\n"
    }
   ],
   "source": [
    "# Check overfitting by predicting the training set. Single iteration.\n",
    "predict_train = clf.predict(X_train) # predict for training set\n",
    "acc = accuracy_score(y_train, predict_train)\n",
    "pre = precision_score(y_train, predict_train)\n",
    "rec = recall_score(y_train, predict_train)\n",
    "print('TRAIN SET SINGLE prediction scores:\\nAccuracy score =', acc)\n",
    "print('Precision score =', pre)\n",
    "print('Recall score =', rec)"
   ]
  },
  {
   "cell_type": "code",
   "execution_count": 24,
   "metadata": {
    "tags": []
   },
   "outputs": [
    {
     "output_type": "stream",
     "name": "stdout",
     "text": "TEST SET SINGLE:\nAccuracy score = 0.8587677725118483\nPrecision score = 0.7653061224489796\nRecall score = 0.6720430107526881\n"
    }
   ],
   "source": [
    "# Scores for single iteration of test data\n",
    "predict = clf.predict(X_test) \n",
    "acc = accuracy_score(y_test, predict)\n",
    "pre = precision_score(y_test, predict)\n",
    "rec = recall_score(y_test, predict)\n",
    "print('TEST SET SINGLE:\\nAccuracy score =', acc)\n",
    "print('Precision score =', pre)\n",
    "print('Recall score =', rec)"
   ]
  },
  {
   "cell_type": "code",
   "execution_count": 25,
   "metadata": {
    "tags": []
   },
   "outputs": [
    {
     "output_type": "stream",
     "name": "stdout",
     "text": "TEST SET 10 FOLD CV (hold out data set)\nAccuracy score = 0.8497630331753554\nPrecision score = 0.7464212678936605\nRecall score = 0.6541218637992832\n"
    }
   ],
   "source": [
    "# 10 fold Cross validation predict scores on hold out dataset \n",
    "a = clf.best_estimator_\n",
    "\n",
    "y_predict = cross_val_predict(a, X_test,y_test, cv =10)\n",
    "acc = accuracy_score(y_test, y_predict)\n",
    "pre = precision_score(y_test, y_predict)\n",
    "rec = recall_score(y_test, y_predict)\n",
    "print('TEST SET 10 FOLD CV (hold out data set)\\nAccuracy score =', acc)\n",
    "print('Precision score =', pre)\n",
    "print('Recall score =', rec)"
   ]
  },
  {
   "cell_type": "code",
   "execution_count": null,
   "metadata": {},
   "outputs": [],
   "source": []
  }
 ]
}