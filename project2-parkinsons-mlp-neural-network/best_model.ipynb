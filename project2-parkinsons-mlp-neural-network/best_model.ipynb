{
 "metadata": {
  "language_info": {
   "codemirror_mode": {
    "name": "ipython",
    "version": 3
   },
   "file_extension": ".py",
   "mimetype": "text/x-python",
   "name": "python",
   "nbconvert_exporter": "python",
   "pygments_lexer": "ipython3",
   "version": "3.7.6-final"
  },
  "orig_nbformat": 2,
  "kernelspec": {
   "name": "Python 3.7.6 64-bit ('base': conda)",
   "display_name": "Python 3.7.6 64-bit ('base': conda)",
   "metadata": {
    "interpreter": {
     "hash": "88bac5e8a7e8ba45927b2f34a1a001c95a9be86a16af2bc0a3fa7c39307ed225"
    }
   }
  }
 },
 "nbformat": 4,
 "nbformat_minor": 2,
 "cells": [
  {
   "cell_type": "code",
   "execution_count": 14,
   "metadata": {},
   "outputs": [],
   "source": [
    "import numpy as np\n",
    "import pandas as pd\n",
    "from sklearn.model_selection import train_test_split, GridSearchCV\n",
    "import tensorflow as tf\n",
    "from tensorflow import keras\n",
    "from sklearn.preprocessing import MinMaxScaler\n",
    "import matplotlib.pyplot as plt\n",
    "from sklearn.metrics import confusion_matrix, classification_report\n",
    "from tensorflow.keras.wrappers.scikit_learn import KerasClassifier"
   ]
  },
  {
   "cell_type": "code",
   "execution_count": 15,
   "metadata": {},
   "outputs": [],
   "source": [
    "# Import data and preprocessing\n",
    "data = pd.read_csv('park_train_data.txt', names = ['Subject id', 'Jitter local', 'Jitter local absolute', 'Jitter rap', 'Jitter ppq5', 'Jitter ddp', 'Shimmer local', 'Shimmer local dB', 'Shimmer apq3', 'Shimmer apq5', 'Shimmer apq11', 'Shimmer dda', 'AC', 'NTH', 'HTN', 'Median pitch', 'Mean pitch', 'Standard deviation', 'Minimum pitch', 'Maximum pitch', 'Number of pulses', 'Number of periods', 'Mean period', 'Standard deviation of period', 'Fraction of locally unvoiced frames', 'Number of voice breaks', 'Degree of voice breaks','UPDRS', 'class information'])\n",
    "\n",
    "data = data.drop(['Subject id', 'UPDRS'], axis = 1) #  col 1 - person id and col 27 - UPDRS column\n",
    "# data = data.sample(frac=1).reset_index(drop = True) # shuffle the rows and reset index\n",
    "# Select appropriate columns for X and y\n",
    "y = data.iloc[:,-1]\n",
    "X_raw = data.iloc[:,:-1]\n",
    "# Scale all feature columns between 0 and 1\n",
    "scaler = MinMaxScaler(feature_range=(0,1))\n",
    "X = scaler.fit_transform(X_raw)\n",
    "\n",
    "X_train, X_test, y_train, y_test = train_test_split(X,y, test_size = 0.4)"
   ]
  },
  {
   "cell_type": "code",
   "execution_count": 34,
   "metadata": {},
   "outputs": [],
   "source": [
    "def build_model(n_hidden=1, n_neurons=20, learning_rate=0.01):\n",
    "    model = keras.models.Sequential()\n",
    "    for layer in range(n_hidden):\n",
    "        model.add(keras.layers.Dense(n_neurons, activation=\"relu\"))\n",
    "        model.add(keras.layers.Dense(1,activation=\"sigmoid\"))\n",
    "        model.compile(loss=\"binary_crossentropy\", optimizer=\"Adam\", metrics = [\"Accuracy\"])\n",
    "    return model"
   ]
  },
  {
   "cell_type": "code",
   "execution_count": 35,
   "metadata": {},
   "outputs": [],
   "source": [
    "keras_clf = keras.wrappers.scikit_learn.KerasClassifier(build_model)\n"
   ]
  },
  {
   "cell_type": "code",
   "execution_count": 36,
   "metadata": {
    "tags": []
   },
   "outputs": [
    {
     "output_type": "stream",
     "name": "stdout",
     "text": "Train on 374 samples, validate on 250 samples\nEpoch 1/100\n374/374 [==============================] - 1s 2ms/sample - loss: 0.7150 - Accuracy: 0.0000e+00 - val_loss: 0.7139 - val_Accuracy: 0.0000e+00\nEpoch 2/100\n374/374 [==============================] - 0s 215us/sample - loss: 0.6989 - Accuracy: 0.0000e+00 - val_loss: 0.7024 - val_Accuracy: 0.0000e+00\nEpoch 3/100\n374/374 [==============================] - 0s 223us/sample - loss: 0.6914 - Accuracy: 0.0000e+00 - val_loss: 0.6958 - val_Accuracy: 0.0000e+00\nEpoch 4/100\n374/374 [==============================] - 0s 225us/sample - loss: 0.6873 - Accuracy: 0.0000e+00 - val_loss: 0.6900 - val_Accuracy: 0.0000e+00\nEpoch 5/100\n374/374 [==============================] - 0s 196us/sample - loss: 0.6826 - Accuracy: 0.0000e+00 - val_loss: 0.6863 - val_Accuracy: 0.0000e+00\nEpoch 6/100\n374/374 [==============================] - 0s 230us/sample - loss: 0.6789 - Accuracy: 0.0000e+00 - val_loss: 0.6824 - val_Accuracy: 0.0000e+00\nEpoch 7/100\n374/374 [==============================] - 0s 226us/sample - loss: 0.6756 - Accuracy: 0.0000e+00 - val_loss: 0.6788 - val_Accuracy: 0.0000e+00\nEpoch 8/100\n374/374 [==============================] - 0s 227us/sample - loss: 0.6723 - Accuracy: 0.0000e+00 - val_loss: 0.6750 - val_Accuracy: 0.0000e+00\nEpoch 9/100\n374/374 [==============================] - 0s 196us/sample - loss: 0.6694 - Accuracy: 0.0000e+00 - val_loss: 0.6724 - val_Accuracy: 0.0000e+00\nEpoch 10/100\n374/374 [==============================] - 0s 204us/sample - loss: 0.6661 - Accuracy: 0.0000e+00 - val_loss: 0.6698 - val_Accuracy: 0.0000e+00\nEpoch 11/100\n374/374 [==============================] - 0s 229us/sample - loss: 0.6633 - Accuracy: 0.0000e+00 - val_loss: 0.6671 - val_Accuracy: 0.0000e+00\nEpoch 12/100\n374/374 [==============================] - 0s 239us/sample - loss: 0.6620 - Accuracy: 0.0000e+00 - val_loss: 0.6646 - val_Accuracy: 0.0000e+00\nEpoch 13/100\n374/374 [==============================] - 0s 222us/sample - loss: 0.6586 - Accuracy: 0.0000e+00 - val_loss: 0.6627 - val_Accuracy: 0.0000e+00\nEpoch 14/100\n374/374 [==============================] - 0s 227us/sample - loss: 0.6566 - Accuracy: 0.0000e+00 - val_loss: 0.6604 - val_Accuracy: 0.0000e+00\nEpoch 15/100\n374/374 [==============================] - 0s 247us/sample - loss: 0.6546 - Accuracy: 0.0000e+00 - val_loss: 0.6581 - val_Accuracy: 0.0000e+00\nEpoch 16/100\n374/374 [==============================] - 0s 224us/sample - loss: 0.6532 - Accuracy: 0.0000e+00 - val_loss: 0.6558 - val_Accuracy: 0.0000e+00\nEpoch 17/100\n374/374 [==============================] - 0s 357us/sample - loss: 0.6511 - Accuracy: 0.0000e+00 - val_loss: 0.6542 - val_Accuracy: 0.0000e+00\nEpoch 18/100\n374/374 [==============================] - 0s 212us/sample - loss: 0.6496 - Accuracy: 0.0000e+00 - val_loss: 0.6522 - val_Accuracy: 0.0000e+00\nEpoch 19/100\n374/374 [==============================] - 0s 228us/sample - loss: 0.6480 - Accuracy: 0.0000e+00 - val_loss: 0.6509 - val_Accuracy: 0.0000e+00\nEpoch 20/100\n374/374 [==============================] - 0s 257us/sample - loss: 0.6471 - Accuracy: 0.0000e+00 - val_loss: 0.6498 - val_Accuracy: 0.0000e+00\nEpoch 21/100\n374/374 [==============================] - 0s 225us/sample - loss: 0.6451 - Accuracy: 0.0000e+00 - val_loss: 0.6474 - val_Accuracy: 0.0000e+00\nEpoch 22/100\n374/374 [==============================] - 0s 214us/sample - loss: 0.6440 - Accuracy: 0.0000e+00 - val_loss: 0.6464 - val_Accuracy: 0.0000e+00\nEpoch 23/100\n374/374 [==============================] - 0s 232us/sample - loss: 0.6425 - Accuracy: 0.0000e+00 - val_loss: 0.6452 - val_Accuracy: 0.0000e+00\nEpoch 24/100\n374/374 [==============================] - 0s 290us/sample - loss: 0.6419 - Accuracy: 0.0000e+00 - val_loss: 0.6439 - val_Accuracy: 0.0000e+00\nEpoch 25/100\n374/374 [==============================] - 0s 221us/sample - loss: 0.6421 - Accuracy: 0.0000e+00 - val_loss: 0.6436 - val_Accuracy: 0.0000e+00\nEpoch 26/100\n374/374 [==============================] - 0s 209us/sample - loss: 0.6393 - Accuracy: 0.0000e+00 - val_loss: 0.6421 - val_Accuracy: 0.0000e+00\nEpoch 27/100\n374/374 [==============================] - 0s 205us/sample - loss: 0.6384 - Accuracy: 0.0000e+00 - val_loss: 0.6413 - val_Accuracy: 0.0000e+00\nEpoch 28/100\n374/374 [==============================] - 0s 248us/sample - loss: 0.6372 - Accuracy: 0.0000e+00 - val_loss: 0.6402 - val_Accuracy: 0.0000e+00\nEpoch 29/100\n374/374 [==============================] - 0s 224us/sample - loss: 0.6365 - Accuracy: 0.0000e+00 - val_loss: 0.6395 - val_Accuracy: 0.0000e+00\nEpoch 30/100\n374/374 [==============================] - 0s 216us/sample - loss: 0.6363 - Accuracy: 0.0000e+00 - val_loss: 0.6388 - val_Accuracy: 0.0000e+00\nEpoch 31/100\n374/374 [==============================] - 0s 235us/sample - loss: 0.6347 - Accuracy: 0.0000e+00 - val_loss: 0.6377 - val_Accuracy: 0.0000e+00\nEpoch 32/100\n374/374 [==============================] - 0s 237us/sample - loss: 0.6338 - Accuracy: 0.0000e+00 - val_loss: 0.6371 - val_Accuracy: 0.0000e+00\nEpoch 33/100\n374/374 [==============================] - 0s 257us/sample - loss: 0.6334 - Accuracy: 0.0000e+00 - val_loss: 0.6366 - val_Accuracy: 0.0000e+00\nEpoch 34/100\n374/374 [==============================] - 0s 249us/sample - loss: 0.6328 - Accuracy: 0.0000e+00 - val_loss: 0.6357 - val_Accuracy: 0.0000e+00\nEpoch 35/100\n374/374 [==============================] - 0s 233us/sample - loss: 0.6329 - Accuracy: 0.0000e+00 - val_loss: 0.6356 - val_Accuracy: 0.0000e+00\nEpoch 36/100\n374/374 [==============================] - 0s 225us/sample - loss: 0.6324 - Accuracy: 0.0000e+00 - val_loss: 0.6348 - val_Accuracy: 0.0000e+00\nEpoch 37/100\n374/374 [==============================] - 0s 291us/sample - loss: 0.6298 - Accuracy: 0.0000e+00 - val_loss: 0.6344 - val_Accuracy: 0.0000e+00\nEpoch 38/100\n374/374 [==============================] - 0s 208us/sample - loss: 0.6291 - Accuracy: 0.0000e+00 - val_loss: 0.6338 - val_Accuracy: 0.0000e+00\nEpoch 39/100\n374/374 [==============================] - 0s 209us/sample - loss: 0.6283 - Accuracy: 0.0000e+00 - val_loss: 0.6332 - val_Accuracy: 0.0000e+00\nEpoch 40/100\n374/374 [==============================] - 0s 220us/sample - loss: 0.6286 - Accuracy: 0.0000e+00 - val_loss: 0.6325 - val_Accuracy: 0.0000e+00\nEpoch 41/100\n374/374 [==============================] - 0s 193us/sample - loss: 0.6268 - Accuracy: 0.0000e+00 - val_loss: 0.6322 - val_Accuracy: 0.0000e+00\nEpoch 42/100\n374/374 [==============================] - 0s 246us/sample - loss: 0.6264 - Accuracy: 0.0000e+00 - val_loss: 0.6320 - val_Accuracy: 0.0000e+00\nEpoch 43/100\n374/374 [==============================] - 0s 225us/sample - loss: 0.6259 - Accuracy: 0.0000e+00 - val_loss: 0.6319 - val_Accuracy: 0.0000e+00\nEpoch 44/100\n374/374 [==============================] - 0s 246us/sample - loss: 0.6254 - Accuracy: 0.0000e+00 - val_loss: 0.6317 - val_Accuracy: 0.0000e+00\nEpoch 45/100\n374/374 [==============================] - 0s 236us/sample - loss: 0.6247 - Accuracy: 0.0000e+00 - val_loss: 0.6309 - val_Accuracy: 0.0000e+00\nEpoch 46/100\n374/374 [==============================] - 0s 203us/sample - loss: 0.6243 - Accuracy: 0.0000e+00 - val_loss: 0.6304 - val_Accuracy: 0.0000e+00\nEpoch 47/100\n374/374 [==============================] - 0s 215us/sample - loss: 0.6235 - Accuracy: 0.0000e+00 - val_loss: 0.6304 - val_Accuracy: 0.0000e+00\nEpoch 48/100\n374/374 [==============================] - 0s 223us/sample - loss: 0.6229 - Accuracy: 0.0000e+00 - val_loss: 0.6299 - val_Accuracy: 0.0000e+00\nEpoch 49/100\n374/374 [==============================] - 0s 189us/sample - loss: 0.6225 - Accuracy: 0.0000e+00 - val_loss: 0.6294 - val_Accuracy: 0.0000e+00\nEpoch 50/100\n374/374 [==============================] - 0s 234us/sample - loss: 0.6218 - Accuracy: 0.0000e+00 - val_loss: 0.6295 - val_Accuracy: 0.0000e+00\nEpoch 51/100\n374/374 [==============================] - 0s 241us/sample - loss: 0.6216 - Accuracy: 0.0000e+00 - val_loss: 0.6289 - val_Accuracy: 0.0000e+00\nEpoch 52/100\n374/374 [==============================] - 0s 226us/sample - loss: 0.6207 - Accuracy: 0.0000e+00 - val_loss: 0.6288 - val_Accuracy: 0.0000e+00\nEpoch 53/100\n374/374 [==============================] - 0s 250us/sample - loss: 0.6200 - Accuracy: 0.0000e+00 - val_loss: 0.6285 - val_Accuracy: 0.0000e+00\nEpoch 54/100\n374/374 [==============================] - 0s 238us/sample - loss: 0.6194 - Accuracy: 0.0000e+00 - val_loss: 0.6281 - val_Accuracy: 0.0000e+00\nEpoch 55/100\n374/374 [==============================] - 0s 246us/sample - loss: 0.6199 - Accuracy: 0.0000e+00 - val_loss: 0.6280 - val_Accuracy: 0.0000e+00\nEpoch 56/100\n374/374 [==============================] - 0s 235us/sample - loss: 0.6184 - Accuracy: 0.0000e+00 - val_loss: 0.6276 - val_Accuracy: 0.0000e+00\nEpoch 57/100\n374/374 [==============================] - 0s 228us/sample - loss: 0.6183 - Accuracy: 0.0000e+00 - val_loss: 0.6272 - val_Accuracy: 0.0000e+00\nEpoch 58/100\n374/374 [==============================] - 0s 267us/sample - loss: 0.6176 - Accuracy: 0.0000e+00 - val_loss: 0.6269 - val_Accuracy: 0.0000e+00\nEpoch 59/100\n374/374 [==============================] - 0s 298us/sample - loss: 0.6174 - Accuracy: 0.0000e+00 - val_loss: 0.6272 - val_Accuracy: 0.0000e+00\nEpoch 60/100\n374/374 [==============================] - 0s 252us/sample - loss: 0.6168 - Accuracy: 0.0000e+00 - val_loss: 0.6270 - val_Accuracy: 0.0000e+00\nEpoch 61/100\n374/374 [==============================] - 0s 248us/sample - loss: 0.6163 - Accuracy: 0.0000e+00 - val_loss: 0.6268 - val_Accuracy: 0.0000e+00\nEpoch 62/100\n374/374 [==============================] - 0s 248us/sample - loss: 0.6156 - Accuracy: 0.0000e+00 - val_loss: 0.6263 - val_Accuracy: 0.0000e+00\nEpoch 63/100\n374/374 [==============================] - 0s 220us/sample - loss: 0.6154 - Accuracy: 0.0000e+00 - val_loss: 0.6262 - val_Accuracy: 0.0000e+00\nEpoch 64/100\n374/374 [==============================] - 0s 218us/sample - loss: 0.6155 - Accuracy: 0.0000e+00 - val_loss: 0.6262 - val_Accuracy: 0.0000e+00\nEpoch 65/100\n374/374 [==============================] - 0s 189us/sample - loss: 0.6150 - Accuracy: 0.0000e+00 - val_loss: 0.6259 - val_Accuracy: 0.0000e+00\nEpoch 66/100\n374/374 [==============================] - 0s 221us/sample - loss: 0.6144 - Accuracy: 0.0000e+00 - val_loss: 0.6262 - val_Accuracy: 0.0000e+00\nEpoch 67/100\n374/374 [==============================] - 0s 226us/sample - loss: 0.6147 - Accuracy: 0.0000e+00 - val_loss: 0.6257 - val_Accuracy: 0.0000e+00\nEpoch 68/100\n374/374 [==============================] - 0s 250us/sample - loss: 0.6134 - Accuracy: 0.0000e+00 - val_loss: 0.6258 - val_Accuracy: 0.0000e+00\nEpoch 69/100\n374/374 [==============================] - 0s 241us/sample - loss: 0.6124 - Accuracy: 0.0000e+00 - val_loss: 0.6253 - val_Accuracy: 0.0000e+00\nEpoch 70/100\n374/374 [==============================] - 0s 250us/sample - loss: 0.6116 - Accuracy: 0.0000e+00 - val_loss: 0.6255 - val_Accuracy: 0.0000e+00\nEpoch 71/100\n374/374 [==============================] - 0s 234us/sample - loss: 0.6119 - Accuracy: 0.0000e+00 - val_loss: 0.6262 - val_Accuracy: 0.0000e+00\nEpoch 72/100\n374/374 [==============================] - 0s 243us/sample - loss: 0.6138 - Accuracy: 0.0000e+00 - val_loss: 0.6254 - val_Accuracy: 0.0000e+00\nEpoch 73/100\n374/374 [==============================] - 0s 268us/sample - loss: 0.6107 - Accuracy: 0.0000e+00 - val_loss: 0.6250 - val_Accuracy: 0.0000e+00\nEpoch 74/100\n374/374 [==============================] - 0s 248us/sample - loss: 0.6105 - Accuracy: 0.0000e+00 - val_loss: 0.6252 - val_Accuracy: 0.0000e+00\nEpoch 75/100\n374/374 [==============================] - 0s 189us/sample - loss: 0.6099 - Accuracy: 0.0000e+00 - val_loss: 0.6250 - val_Accuracy: 0.0000e+00\nEpoch 76/100\n374/374 [==============================] - 0s 248us/sample - loss: 0.6117 - Accuracy: 0.0000e+00 - val_loss: 0.6253 - val_Accuracy: 0.0000e+00\nEpoch 77/100\n374/374 [==============================] - 0s 263us/sample - loss: 0.6098 - Accuracy: 0.0000e+00 - val_loss: 0.6253 - val_Accuracy: 0.0000e+00\nEpoch 78/100\n374/374 [==============================] - 0s 218us/sample - loss: 0.6087 - Accuracy: 0.0000e+00 - val_loss: 0.6250 - val_Accuracy: 0.0000e+00\nEpoch 79/100\n374/374 [==============================] - 0s 211us/sample - loss: 0.6075 - Accuracy: 0.0000e+00 - val_loss: 0.6246 - val_Accuracy: 0.0000e+00\nEpoch 80/100\n374/374 [==============================] - 0s 215us/sample - loss: 0.6076 - Accuracy: 0.0000e+00 - val_loss: 0.6247 - val_Accuracy: 0.0000e+00\nEpoch 81/100\n374/374 [==============================] - 0s 212us/sample - loss: 0.6079 - Accuracy: 0.0000e+00 - val_loss: 0.6247 - val_Accuracy: 0.0000e+00\nEpoch 82/100\n374/374 [==============================] - 0s 233us/sample - loss: 0.6068 - Accuracy: 0.0000e+00 - val_loss: 0.6242 - val_Accuracy: 0.0000e+00\nEpoch 83/100\n374/374 [==============================] - 0s 218us/sample - loss: 0.6067 - Accuracy: 0.0000e+00 - val_loss: 0.6244 - val_Accuracy: 0.0000e+00\nEpoch 84/100\n374/374 [==============================] - 0s 244us/sample - loss: 0.6060 - Accuracy: 0.0000e+00 - val_loss: 0.6243 - val_Accuracy: 0.0000e+00\nEpoch 85/100\n374/374 [==============================] - 0s 226us/sample - loss: 0.6098 - Accuracy: 0.0000e+00 - val_loss: 0.6244 - val_Accuracy: 0.0000e+00\nEpoch 86/100\n374/374 [==============================] - 0s 228us/sample - loss: 0.6060 - Accuracy: 0.0000e+00 - val_loss: 0.6243 - val_Accuracy: 0.0000e+00\nEpoch 87/100\n374/374 [==============================] - 0s 243us/sample - loss: 0.6054 - Accuracy: 0.0000e+00 - val_loss: 0.6240 - val_Accuracy: 0.0000e+00\nEpoch 88/100\n374/374 [==============================] - 0s 268us/sample - loss: 0.6047 - Accuracy: 0.0000e+00 - val_loss: 0.6240 - val_Accuracy: 0.0000e+00\nEpoch 89/100\n374/374 [==============================] - 0s 222us/sample - loss: 0.6044 - Accuracy: 0.0000e+00 - val_loss: 0.6240 - val_Accuracy: 0.0000e+00\nEpoch 90/100\n374/374 [==============================] - 0s 216us/sample - loss: 0.6050 - Accuracy: 0.0000e+00 - val_loss: 0.6241 - val_Accuracy: 0.0000e+00\nEpoch 91/100\n374/374 [==============================] - 0s 264us/sample - loss: 0.6035 - Accuracy: 0.0000e+00 - val_loss: 0.6239 - val_Accuracy: 0.0000e+00\nEpoch 92/100\n374/374 [==============================] - 0s 246us/sample - loss: 0.6038 - Accuracy: 0.0000e+00 - val_loss: 0.6243 - val_Accuracy: 0.0000e+00\nEpoch 93/100\n374/374 [==============================] - 0s 268us/sample - loss: 0.6037 - Accuracy: 0.0000e+00 - val_loss: 0.6239 - val_Accuracy: 0.0000e+00\nEpoch 94/100\n374/374 [==============================] - 0s 206us/sample - loss: 0.6026 - Accuracy: 0.0000e+00 - val_loss: 0.6234 - val_Accuracy: 0.0000e+00\nEpoch 95/100\n374/374 [==============================] - 0s 201us/sample - loss: 0.6032 - Accuracy: 0.0000e+00 - val_loss: 0.6236 - val_Accuracy: 0.0000e+00\nEpoch 96/100\n374/374 [==============================] - 0s 183us/sample - loss: 0.6023 - Accuracy: 0.0000e+00 - val_loss: 0.6239 - val_Accuracy: 0.0000e+00\nEpoch 97/100\n374/374 [==============================] - 0s 218us/sample - loss: 0.6018 - Accuracy: 0.0000e+00 - val_loss: 0.6235 - val_Accuracy: 0.0000e+00\nEpoch 98/100\n374/374 [==============================] - 0s 189us/sample - loss: 0.6024 - Accuracy: 0.0000e+00 - val_loss: 0.6241 - val_Accuracy: 0.0000e+00\nEpoch 99/100\n374/374 [==============================] - 0s 220us/sample - loss: 0.6013 - Accuracy: 0.0000e+00 - val_loss: 0.6238 - val_Accuracy: 0.0000e+00\nEpoch 100/100\n374/374 [==============================] - 0s 222us/sample - loss: 0.6004 - Accuracy: 0.0000e+00 - val_loss: 0.6234 - val_Accuracy: 0.0000e+00\n"
    },
    {
     "output_type": "execute_result",
     "data": {
      "text/plain": "<tensorflow.python.keras.callbacks.History at 0x23cb621d188>"
     },
     "metadata": {},
     "execution_count": 36
    }
   ],
   "source": [
    "keras_clf.fit(X_train, y_train, epochs=100,\n",
    "validation_split = 0.4)"
   ]
  },
  {
   "cell_type": "code",
   "execution_count": null,
   "metadata": {},
   "outputs": [],
   "source": []
  }
 ]
}