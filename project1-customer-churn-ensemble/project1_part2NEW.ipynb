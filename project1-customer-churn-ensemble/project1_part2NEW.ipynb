{
 "metadata": {
  "language_info": {
   "codemirror_mode": {
    "name": "ipython",
    "version": 3
   },
   "file_extension": ".py",
   "mimetype": "text/x-python",
   "name": "python",
   "nbconvert_exporter": "python",
   "pygments_lexer": "ipython3",
   "version": "3.8.2-final"
  },
  "orig_nbformat": 2,
  "kernelspec": {
   "name": "python38232bit5c432716f6384d45a99e9dcd13e5b2e9",
   "display_name": "Python 3.8.2 32-bit"
  }
 },
 "nbformat": 4,
 "nbformat_minor": 2,
 "cells": [
  {
   "cell_type": "code",
   "execution_count": 12,
   "metadata": {},
   "outputs": [],
   "source": [
    "import numpy as np\n",
    "import pandas as pd\n",
    "import matplotlib.pyplot as plt\n",
    "import seaborn as sns\n",
    "from sklearn.preprocessing import LabelEncoder, OneHotEncoder\n",
    "from sklearn.model_selection import train_test_split, GridSearchCV, cross_val_score, cross_val_predict\n",
    "from sklearn.tree import DecisionTreeClassifier\n",
    "from sklearn.ensemble import RandomForestClassifier\n",
    "from sklearn.metrics import classification_report, confusion_matrix, accuracy_score, precision_score, recall_score\n",
    "from sklearn.compose import make_column_transformer"
   ]
  },
  {
   "cell_type": "code",
   "execution_count": 13,
   "metadata": {},
   "outputs": [],
   "source": [
    "data = pd.read_csv('data.csv')"
   ]
  },
  {
   "cell_type": "markdown",
   "metadata": {},
   "source": [
    "Data Preprocessing: \n",
    "Only the nominal categorical data needs to be one-hot-encoded.\n",
    "All other numerical data does not need scaling (normalising).\n",
    "The target data yes/no will needs to be encoded 0/1"
   ]
  },
  {
   "cell_type": "code",
   "execution_count": 14,
   "metadata": {},
   "outputs": [],
   "source": [
    "# Data processing\n",
    "data = data.iloc[:, 1: ] # removes first column with id's\n",
    "X = data.iloc[:,:-1] # creates feature matrix without churn\n",
    "#X = X.drop(['tenure'],axis = 1)"
   ]
  },
  {
   "cell_type": "code",
   "execution_count": 15,
   "metadata": {},
   "outputs": [],
   "source": [
    "# One hot encoding\n",
    "column_trans = make_column_transformer((OneHotEncoder(), ['gender', 'SeniorCitizen','Partner', 'Dependents', 'PhoneService', 'MultipleLines', 'InternetService', 'OnlineSecurity', 'OnlineBackup', 'DeviceProtection', 'TechSupport', 'StreamingTV', 'StreamingMovies', 'Contract', 'PaperlessBilling', 'PaymentMethod']), remainder = 'passthrough')\n",
    "\n",
    "# NEW feature matrix\n",
    "X = column_trans.fit_transform(X)\n"
   ]
  },
  {
   "cell_type": "code",
   "execution_count": 16,
   "metadata": {},
   "outputs": [],
   "source": [
    "# Binary encode churn\n",
    "target = data.iloc[:,-1:]\n",
    "y = target.apply(LabelEncoder().fit_transform)"
   ]
  },
  {
   "cell_type": "code",
   "execution_count": 17,
   "metadata": {},
   "outputs": [],
   "source": [
    "X_train, X_test, y_train, y_test = train_test_split(X, y, test_size = 0.3)"
   ]
  },
  {
   "cell_type": "code",
   "execution_count": 18,
   "metadata": {},
   "outputs": [],
   "source": [
    "# Hyperprameter tuning\n",
    "params = {'n_estimators' : (100, 110, 120, 130, 140),\n",
    "            'max_features': ['auto', 'sqrt']}\n",
    "\n",
    "gridsearch = GridSearchCV(RandomForestClassifier(random_state=2, oob_score=True), params,verbose=1, cv=5, n_jobs=-1)\n"
   ]
  },
  {
   "cell_type": "code",
   "execution_count": 19,
   "metadata": {
    "tags": []
   },
   "outputs": [
    {
     "output_type": "stream",
     "name": "stdout",
     "text": "Fitting 5 folds for each of 10 candidates, totalling 50 fits\n[Parallel(n_jobs=-1)]: Using backend LokyBackend with 8 concurrent workers.\n[Parallel(n_jobs=-1)]: Done  34 tasks      | elapsed:    4.6s\n[Parallel(n_jobs=-1)]: Done  50 out of  50 | elapsed:    6.6s finished\n"
    }
   ],
   "source": [
    "clf = gridsearch.fit(X_train, y_train)"
   ]
  },
  {
   "cell_type": "code",
   "execution_count": 20,
   "metadata": {},
   "outputs": [],
   "source": [
    "#clf = gridsearch.best_estimator_\n",
    "#clf.oob_score_"
   ]
  },
  {
   "cell_type": "code",
   "execution_count": 21,
   "metadata": {
    "tags": []
   },
   "outputs": [
    {
     "output_type": "stream",
     "name": "stdout",
     "text": "TRAIN SET SINGLE prediction scores:\nAccuracy score = 0.9987809833401057\nPrecision score = 0.9984591679506933\nRecall score = 0.9969230769230769\n"
    }
   ],
   "source": [
    "# Check overfitting by predicting the training set. Single iteration.\n",
    "predict_train = clf.predict(X_train) # predict for training set\n",
    "acc = accuracy_score(y_train, predict_train)\n",
    "pre = precision_score(y_train, predict_train)\n",
    "rec = recall_score(y_train, predict_train)\n",
    "print('TRAIN SET SINGLE prediction scores:\\nAccuracy score =', acc)\n",
    "print('Precision score =', pre)\n",
    "print('Recall score =', rec)"
   ]
  },
  {
   "cell_type": "code",
   "execution_count": 22,
   "metadata": {
    "tags": []
   },
   "outputs": [
    {
     "output_type": "stream",
     "name": "stdout",
     "text": "TEST SET SINGLE:\nAccuracy score = 0.8530805687203792\nPrecision score = 0.7524366471734892\nRecall score = 0.6783831282952548\n"
    }
   ],
   "source": [
    "# Scores for single iteration of test data\n",
    "predict = clf.predict(X_test) \n",
    "acc = accuracy_score(y_test, predict)\n",
    "pre = precision_score(y_test, predict)\n",
    "rec = recall_score(y_test, predict)\n",
    "print('TEST SET SINGLE:\\nAccuracy score =', acc)\n",
    "print('Precision score =', pre)\n",
    "print('Recall score =', rec)"
   ]
  },
  {
   "cell_type": "code",
   "execution_count": 23,
   "metadata": {
    "tags": []
   },
   "outputs": [
    {
     "output_type": "stream",
     "name": "stdout",
     "text": "TEST SET 10 FOLD CV (hold out data set)\nAccuracy score = 0.8478672985781991\nPrecision score = 0.7572614107883817\nRecall score = 0.6414762741652021\n"
    }
   ],
   "source": [
    "# 10 fold Cross validation predict scores on hold out dataset \n",
    "a = clf.best_estimator_\n",
    "\n",
    "y_predict = cross_val_predict(a, X_test,y_test, cv =10)\n",
    "acc = accuracy_score(y_test, y_predict)\n",
    "pre = precision_score(y_test, y_predict)\n",
    "rec = recall_score(y_test, y_predict)\n",
    "print('TEST SET 10 FOLD CV (hold out data set)\\nAccuracy score =', acc)\n",
    "print('Precision score =', pre)\n",
    "print('Recall score =', rec)"
   ]
  },
  {
   "cell_type": "code",
   "execution_count": null,
   "metadata": {},
   "outputs": [],
   "source": [
    "precision_score(y_train, predict)"
   ]
  },
  {
   "cell_type": "code",
   "execution_count": null,
   "metadata": {},
   "outputs": [],
   "source": [
    "recall_score(y_train, predict)"
   ]
  },
  {
   "cell_type": "code",
   "execution_count": null,
   "metadata": {
    "tags": []
   },
   "outputs": [],
   "source": [
    "predict2 = clf.predict(X_test)\n",
    "precision_score(y_test, predict2)\n",
    "#accuracy_score(y_test, predict2)"
   ]
  },
  {
   "cell_type": "code",
   "execution_count": null,
   "metadata": {},
   "outputs": [],
   "source": [
    "recall_score(y_test, predict2)"
   ]
  },
  {
   "cell_type": "code",
   "execution_count": null,
   "metadata": {},
   "outputs": [],
   "source": []
  }
 ]
}