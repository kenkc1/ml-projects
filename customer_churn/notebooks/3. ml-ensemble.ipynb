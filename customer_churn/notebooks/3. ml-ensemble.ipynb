{
 "cells": [
  {
   "cell_type": "code",
   "execution_count": 1,
   "metadata": {},
   "outputs": [],
   "source": [
    "import numpy as np\n",
    "import pandas as pd\n",
    "import matplotlib.pyplot as plt\n",
    "import seaborn as sns\n",
    "from sklearn.model_selection import train_test_split, GridSearchCV, RandomizedSearchCV, cross_val_score, cross_val_predict\n",
    "from sklearn.tree import DecisionTreeClassifier, plot_tree\n",
    "from sklearn.metrics import classification_report, confusion_matrix\n",
    "from sklearn.ensemble import RandomForestClassifier, VotingClassifier\n",
    "\n",
    "import xgboost as xgb\n",
    "from sklearn.svm import SVC\n",
    "\n",
    "import os\n",
    "BASE_DIR = os.path.dirname(os.path.abspath('')) # define base directory\n",
    "DATA_DIR = os.path.join(BASE_DIR, 'Data')\n",
    "OUT_DIR = os.path.join(BASE_DIR, 'Output')"
   ]
  },
  {
   "cell_type": "code",
   "execution_count": 2,
   "metadata": {},
   "outputs": [
    {
     "data": {
      "text/html": [
       "<div>\n",
       "<style scoped>\n",
       "    .dataframe tbody tr th:only-of-type {\n",
       "        vertical-align: middle;\n",
       "    }\n",
       "\n",
       "    .dataframe tbody tr th {\n",
       "        vertical-align: top;\n",
       "    }\n",
       "\n",
       "    .dataframe thead th {\n",
       "        text-align: right;\n",
       "    }\n",
       "</style>\n",
       "<table border=\"1\" class=\"dataframe\">\n",
       "  <thead>\n",
       "    <tr style=\"text-align: right;\">\n",
       "      <th></th>\n",
       "      <th>gender</th>\n",
       "      <th>SeniorCitizen</th>\n",
       "      <th>Partner</th>\n",
       "      <th>Dependents</th>\n",
       "      <th>tenure</th>\n",
       "      <th>PhoneService</th>\n",
       "      <th>MultipleLines</th>\n",
       "      <th>InternetService</th>\n",
       "      <th>OnlineSecurity</th>\n",
       "      <th>OnlineBackup</th>\n",
       "      <th>DeviceProtection</th>\n",
       "      <th>TechSupport</th>\n",
       "      <th>StreamingTV</th>\n",
       "      <th>StreamingMovies</th>\n",
       "      <th>Contract</th>\n",
       "      <th>PaperlessBilling</th>\n",
       "      <th>PaymentMethod</th>\n",
       "      <th>MonthlyCharges</th>\n",
       "      <th>TotalCharges</th>\n",
       "      <th>Churn</th>\n",
       "    </tr>\n",
       "  </thead>\n",
       "  <tbody>\n",
       "    <tr>\n",
       "      <th>0</th>\n",
       "      <td>0</td>\n",
       "      <td>0</td>\n",
       "      <td>1</td>\n",
       "      <td>1</td>\n",
       "      <td>9</td>\n",
       "      <td>1</td>\n",
       "      <td>0</td>\n",
       "      <td>0</td>\n",
       "      <td>0</td>\n",
       "      <td>2</td>\n",
       "      <td>0</td>\n",
       "      <td>2</td>\n",
       "      <td>2</td>\n",
       "      <td>0</td>\n",
       "      <td>1</td>\n",
       "      <td>1</td>\n",
       "      <td>3</td>\n",
       "      <td>65.6</td>\n",
       "      <td>593.30</td>\n",
       "      <td>0</td>\n",
       "    </tr>\n",
       "    <tr>\n",
       "      <th>1</th>\n",
       "      <td>1</td>\n",
       "      <td>0</td>\n",
       "      <td>0</td>\n",
       "      <td>0</td>\n",
       "      <td>9</td>\n",
       "      <td>1</td>\n",
       "      <td>2</td>\n",
       "      <td>0</td>\n",
       "      <td>0</td>\n",
       "      <td>0</td>\n",
       "      <td>0</td>\n",
       "      <td>0</td>\n",
       "      <td>0</td>\n",
       "      <td>2</td>\n",
       "      <td>0</td>\n",
       "      <td>0</td>\n",
       "      <td>3</td>\n",
       "      <td>59.9</td>\n",
       "      <td>542.40</td>\n",
       "      <td>0</td>\n",
       "    </tr>\n",
       "    <tr>\n",
       "      <th>2</th>\n",
       "      <td>1</td>\n",
       "      <td>1</td>\n",
       "      <td>0</td>\n",
       "      <td>0</td>\n",
       "      <td>4</td>\n",
       "      <td>1</td>\n",
       "      <td>0</td>\n",
       "      <td>1</td>\n",
       "      <td>0</td>\n",
       "      <td>0</td>\n",
       "      <td>2</td>\n",
       "      <td>0</td>\n",
       "      <td>0</td>\n",
       "      <td>0</td>\n",
       "      <td>0</td>\n",
       "      <td>1</td>\n",
       "      <td>2</td>\n",
       "      <td>73.9</td>\n",
       "      <td>280.85</td>\n",
       "      <td>1</td>\n",
       "    </tr>\n",
       "    <tr>\n",
       "      <th>3</th>\n",
       "      <td>1</td>\n",
       "      <td>1</td>\n",
       "      <td>1</td>\n",
       "      <td>0</td>\n",
       "      <td>13</td>\n",
       "      <td>1</td>\n",
       "      <td>0</td>\n",
       "      <td>1</td>\n",
       "      <td>0</td>\n",
       "      <td>2</td>\n",
       "      <td>2</td>\n",
       "      <td>0</td>\n",
       "      <td>2</td>\n",
       "      <td>2</td>\n",
       "      <td>0</td>\n",
       "      <td>1</td>\n",
       "      <td>2</td>\n",
       "      <td>98.0</td>\n",
       "      <td>1237.85</td>\n",
       "      <td>1</td>\n",
       "    </tr>\n",
       "    <tr>\n",
       "      <th>4</th>\n",
       "      <td>0</td>\n",
       "      <td>1</td>\n",
       "      <td>1</td>\n",
       "      <td>0</td>\n",
       "      <td>3</td>\n",
       "      <td>1</td>\n",
       "      <td>0</td>\n",
       "      <td>1</td>\n",
       "      <td>0</td>\n",
       "      <td>0</td>\n",
       "      <td>0</td>\n",
       "      <td>2</td>\n",
       "      <td>2</td>\n",
       "      <td>0</td>\n",
       "      <td>0</td>\n",
       "      <td>1</td>\n",
       "      <td>3</td>\n",
       "      <td>83.9</td>\n",
       "      <td>267.40</td>\n",
       "      <td>1</td>\n",
       "    </tr>\n",
       "  </tbody>\n",
       "</table>\n",
       "</div>"
      ],
      "text/plain": [
       "   gender  SeniorCitizen  Partner  Dependents  tenure  PhoneService  \\\n",
       "0       0              0        1           1       9             1   \n",
       "1       1              0        0           0       9             1   \n",
       "2       1              1        0           0       4             1   \n",
       "3       1              1        1           0      13             1   \n",
       "4       0              1        1           0       3             1   \n",
       "\n",
       "   MultipleLines  InternetService  OnlineSecurity  OnlineBackup  \\\n",
       "0              0                0               0             2   \n",
       "1              2                0               0             0   \n",
       "2              0                1               0             0   \n",
       "3              0                1               0             2   \n",
       "4              0                1               0             0   \n",
       "\n",
       "   DeviceProtection  TechSupport  StreamingTV  StreamingMovies  Contract  \\\n",
       "0                 0            2            2                0         1   \n",
       "1                 0            0            0                2         0   \n",
       "2                 2            0            0                0         0   \n",
       "3                 2            0            2                2         0   \n",
       "4                 0            2            2                0         0   \n",
       "\n",
       "   PaperlessBilling  PaymentMethod  MonthlyCharges  TotalCharges  Churn  \n",
       "0                 1              3            65.6        593.30      0  \n",
       "1                 0              3            59.9        542.40      0  \n",
       "2                 1              2            73.9        280.85      1  \n",
       "3                 1              2            98.0       1237.85      1  \n",
       "4                 1              3            83.9        267.40      1  "
      ]
     },
     "execution_count": 2,
     "metadata": {},
     "output_type": "execute_result"
    }
   ],
   "source": [
    "df = pd.read_csv(os.path.join(DATA_DIR, 'data_processed.csv'))\n",
    "df.head()"
   ]
  },
  {
   "cell_type": "code",
   "execution_count": 3,
   "metadata": {},
   "outputs": [],
   "source": [
    "X = df.drop(\"Churn\", axis=1)\n",
    "y = df[\"Churn\"]"
   ]
  },
  {
   "cell_type": "code",
   "execution_count": 4,
   "metadata": {},
   "outputs": [],
   "source": [
    "X_train, X_test, y_train, y_test = train_test_split(X, y, test_size=0.3, random_state=42)"
   ]
  },
  {
   "cell_type": "code",
   "execution_count": 5,
   "metadata": {},
   "outputs": [],
   "source": [
    "# Function to print confusion matrix\n",
    "def conf_matrix(y_test, y_pred):\n",
    "    matrix = confusion_matrix(y_test, y_pred)\n",
    "\n",
    "    sns.heatmap(data=matrix, annot=True, fmt=\".0f\", xticklabels = [\"Churn no\", \"Churn yes\"], yticklabels = [\"Churn no\", \"Churn yes\"], cmap=\"Blues\")\n",
    "    plt.ylabel(\"True Class\")\n",
    "    plt.xlabel(\"Predicted Class\")\n",
    "    plt.title(\"Decision Tree Classifier\")"
   ]
  },
  {
   "cell_type": "code",
   "execution_count": 6,
   "metadata": {},
   "outputs": [],
   "source": [
    "def metrics(y_test, y_pred):\n",
    "    return(classification_report(y_test, y_pred, target_names = [\"Churn No\", \"Churn Yes\"]))"
   ]
  },
  {
   "cell_type": "markdown",
   "metadata": {},
   "source": [
    "#### 1.1 Randomforest classifier"
   ]
  },
  {
   "cell_type": "code",
   "execution_count": 18,
   "metadata": {},
   "outputs": [
    {
     "name": "stdout",
     "output_type": "stream",
     "text": [
      "Fitting 5 folds for each of 150 candidates, totalling 750 fits\n"
     ]
    },
    {
     "name": "stderr",
     "output_type": "stream",
     "text": [
      "[Parallel(n_jobs=-1)]: Using backend LokyBackend with 8 concurrent workers.\n",
      "[Parallel(n_jobs=-1)]: Done  34 tasks      | elapsed:   12.1s\n",
      "[Parallel(n_jobs=-1)]: Done 184 tasks      | elapsed:   51.7s\n",
      "[Parallel(n_jobs=-1)]: Done 434 tasks      | elapsed:  2.3min\n",
      "[Parallel(n_jobs=-1)]: Done 750 out of 750 | elapsed:  4.7min finished\n"
     ]
    },
    {
     "data": {
      "text/plain": [
       "GridSearchCV(cv=5,\n",
       "             estimator=RandomForestClassifier(oob_score=True, random_state=5),\n",
       "             n_jobs=-1,\n",
       "             param_grid={'max_depth': [3, 5, 7, 9, 11],\n",
       "                         'max_features': ['auto', 'sqrt'],\n",
       "                         'min_samples_leaf': [10, 20, 30],\n",
       "                         'n_estimators': [300, 350, 400, 450, 500]},\n",
       "             scoring='recall', verbose=1)"
      ]
     },
     "execution_count": 18,
     "metadata": {},
     "output_type": "execute_result"
    }
   ],
   "source": [
    "# Hyperprameter tuning\n",
    "#params = {'n_estimators' :[180, 200, 215, 230],\n",
    "#         'max_depth': [8],\n",
    "#         'min_samples_leaf': [18]}\n",
    "\n",
    "params = {'n_estimators' :[300, 350, 400, 450, 500], 'max_depth': [3,5,7,9,11], 'max_features': ['auto', 'sqrt'], 'min_samples_leaf': [10, 20, 30]}\n",
    "\n",
    "random_grid = {'max_depth': [6,8,10], 'max_features': ['auto', 'sqrt'], 'min_samples_leaf': [40, 50, 60], 'n_estimators': [ 300, 350,400]}\n",
    "\n",
    "rf_model = RandomForestClassifier(random_state=5, oob_score=True)\n",
    "\n",
    "gridsearch = GridSearchCV(rf_model, params,verbose=1, cv=5, n_jobs=-1, scoring = 'recall')\n",
    "gridsearch.fit(X_train, y_train)\n",
    "#gridsearch = RandomizedSearchCV(estimator = RandomForestClassifier(random_state=5, oob_score=True), param_distributions = random_grid, n_iter = 50, cv = 3, verbose=2, random_state=42, n_jobs = -1, scoring = 'roc_auc')\n",
    "\n",
    "#gridsearch = RandomForestClassifier(random_state=5, oob_score=True, n_estimators=215, min_samples_leaf=18,max_depth=8,max_features='sqrt')"
   ]
  },
  {
   "cell_type": "code",
   "execution_count": 8,
   "metadata": {},
   "outputs": [
    {
     "data": {
      "text/plain": [
       "RandomForestClassifier(max_depth=7, min_samples_leaf=10, n_estimators=300,\n",
       "                       oob_score=True, random_state=5)"
      ]
     },
     "execution_count": 8,
     "metadata": {},
     "output_type": "execute_result"
    }
   ],
   "source": [
    "gridsearch.best_estimator_"
   ]
  },
  {
   "cell_type": "code",
   "execution_count": 9,
   "metadata": {},
   "outputs": [],
   "source": [
    "best_model = gridsearch.best_estimator_"
   ]
  },
  {
   "cell_type": "markdown",
   "metadata": {},
   "source": [
    "#### 1.2 Random forest metrics"
   ]
  },
  {
   "cell_type": "code",
   "execution_count": 16,
   "metadata": {},
   "outputs": [
    {
     "name": "stdout",
     "output_type": "stream",
     "text": [
      "Average ROC AUC score across 5-fold-CV: 0.59\n"
     ]
    },
    {
     "data": {
      "text/plain": [
       "array([0.53153153, 0.59459459, 0.55855856, 0.62162162, 0.66071429])"
      ]
     },
     "execution_count": 16,
     "metadata": {},
     "output_type": "execute_result"
    }
   ],
   "source": [
    "y_pred = cross_val_predict(estimator=best_model, X=X_test, y=y_test, cv=5)\n",
    "cross_val_scores = cross_val_score(estimator=best_model, X=X_test, y=y_test, cv=5, scoring=\"recall\")\n",
    "print(f\"Average ROC AUC score across 5-fold-CV: {cross_val_scores.mean().round(decimals=2)}\")\n",
    "cross_val_scores"
   ]
  },
  {
   "cell_type": "code",
   "execution_count": 17,
   "metadata": {},
   "outputs": [
    {
     "name": "stdout",
     "output_type": "stream",
     "text": [
      "              precision    recall  f1-score   support\n",
      "\n",
      "    Churn No       0.87      0.94      0.90      1554\n",
      "   Churn Yes       0.77      0.59      0.67       556\n",
      "\n",
      "    accuracy                           0.85      2110\n",
      "   macro avg       0.82      0.76      0.78      2110\n",
      "weighted avg       0.84      0.85      0.84      2110\n",
      "\n"
     ]
    }
   ],
   "source": [
    "print(metrics(y_test, y_pred))"
   ]
  },
  {
   "cell_type": "code",
   "execution_count": 13,
   "metadata": {},
   "outputs": [
    {
     "name": "stdout",
     "output_type": "stream",
     "text": [
      "              precision    recall  f1-score   support\n",
      "\n",
      "    Churn No       0.87      0.94      0.90      1554\n",
      "   Churn Yes       0.77      0.62      0.69       556\n",
      "\n",
      "    accuracy                           0.85      2110\n",
      "   macro avg       0.82      0.78      0.79      2110\n",
      "weighted avg       0.85      0.85      0.85      2110\n",
      "\n"
     ]
    }
   ],
   "source": [
    "y_pred2_CV = cross_val_predict(best_model, X_test, y_test, cv=5)\n",
    "print(metrics(y_test, y_pred2_CV))"
   ]
  },
  {
   "cell_type": "markdown",
   "metadata": {},
   "source": [
    "### 2. Ensemble learning\n",
    "### Voting classifier\n",
    "- RandomForestClassifier\n",
    "- XGBoost\n",
    "- SVM classifier\n"
   ]
  },
  {
   "cell_type": "code",
   "execution_count": 16,
   "metadata": {},
   "outputs": [],
   "source": [
    "# define all models \n",
    "xgb_model = xgb.XGBClassifier(objective=\"binary:logistic\", random_state=42)\n",
    "rf_model = RandomForestClassifier(random_state=42)\n",
    "svm_model = SVC(random_state=42, probability=True)"
   ]
  },
  {
   "cell_type": "code",
   "execution_count": 17,
   "metadata": {},
   "outputs": [],
   "source": [
    "voting_clf = VotingClassifier(estimators=[('xgb', xgb_model), ('rf', rf_model), ('svc', svm_model)],\n",
    "voting='soft')\n",
    "voting_model= voting_clf.fit(X_train, y_train)\n"
   ]
  },
  {
   "cell_type": "code",
   "execution_count": 23,
   "metadata": {},
   "outputs": [],
   "source": [
    "y_pred3 = voting_model.predict(X_test)"
   ]
  },
  {
   "cell_type": "code",
   "execution_count": 24,
   "metadata": {},
   "outputs": [
    {
     "name": "stdout",
     "output_type": "stream",
     "text": [
      "              precision    recall  f1-score   support\n",
      "\n",
      "    Churn No       0.87      0.92      0.90      1554\n",
      "   Churn Yes       0.75      0.63      0.68       556\n",
      "\n",
      "    accuracy                           0.85      2110\n",
      "   macro avg       0.81      0.78      0.79      2110\n",
      "weighted avg       0.84      0.85      0.84      2110\n",
      "\n"
     ]
    }
   ],
   "source": [
    "print(metrics(y_test, y_pred3))"
   ]
  },
  {
   "cell_type": "code",
   "execution_count": 20,
   "metadata": {},
   "outputs": [],
   "source": [
    "y_pred3_CV = cross_val_predict(voting_model, X_test, y_test, n_jobs=-1, cv=5)"
   ]
  },
  {
   "cell_type": "code",
   "execution_count": 21,
   "metadata": {},
   "outputs": [
    {
     "name": "stdout",
     "output_type": "stream",
     "text": [
      "              precision    recall  f1-score   support\n",
      "\n",
      "    Churn No       0.86      0.93      0.89      1554\n",
      "   Churn Yes       0.74      0.59      0.65       556\n",
      "\n",
      "    accuracy                           0.84      2110\n",
      "   macro avg       0.80      0.76      0.77      2110\n",
      "weighted avg       0.83      0.84      0.83      2110\n",
      "\n"
     ]
    }
   ],
   "source": [
    "print(metrics(y_test, y_pred3_CV))"
   ]
  },
  {
   "cell_type": "code",
   "execution_count": 43,
   "metadata": {},
   "outputs": [
    {
     "data": {
      "text/plain": [
       "RandomForestClassifier(max_depth=5, min_samples_leaf=40, n_estimators=20000,\n",
       "                       oob_score=True, random_state=42)"
      ]
     },
     "execution_count": 43,
     "metadata": {},
     "output_type": "execute_result"
    }
   ],
   "source": [
    "rf_model2 = RandomForestClassifier(n_estimators = 20000, max_depth=5, min_samples_leaf=40, random_state=42, oob_score=True)\n",
    "rf_model2.fit(X_train,y_train)"
   ]
  },
  {
   "cell_type": "code",
   "execution_count": 44,
   "metadata": {},
   "outputs": [
    {
     "name": "stdout",
     "output_type": "stream",
     "text": [
      "              precision    recall  f1-score   support\n",
      "\n",
      "    Churn No       0.87      0.93      0.90      1554\n",
      "   Churn Yes       0.76      0.63      0.69       556\n",
      "\n",
      "    accuracy                           0.85      2110\n",
      "   macro avg       0.82      0.78      0.79      2110\n",
      "weighted avg       0.84      0.85      0.84      2110\n",
      "\n"
     ]
    }
   ],
   "source": [
    "y_pred_rf = rf_model2.predict(X_test)\n",
    "print(metrics(y_test, y_pred_rf))"
   ]
  },
  {
   "cell_type": "code",
   "execution_count": 42,
   "metadata": {},
   "outputs": [
    {
     "name": "stdout",
     "output_type": "stream",
     "text": [
      "              precision    recall  f1-score   support\n",
      "\n",
      "    Churn No       0.89      0.95      0.92      3609\n",
      "   Churn Yes       0.82      0.66      0.73      1313\n",
      "\n",
      "    accuracy                           0.87      4922\n",
      "   macro avg       0.85      0.81      0.82      4922\n",
      "weighted avg       0.87      0.87      0.87      4922\n",
      "\n"
     ]
    }
   ],
   "source": [
    "y_pred_rf = rf_model2.predict(X_train)\n",
    "print(metrics(y_train, y_pred_rf))"
   ]
  },
  {
   "cell_type": "code",
   "execution_count": null,
   "metadata": {},
   "outputs": [],
   "source": []
  }
 ],
 "metadata": {
  "kernelspec": {
   "display_name": "Python 3.8.6 64-bit",
   "language": "python",
   "name": "python3"
  },
  "language_info": {
   "codemirror_mode": {
    "name": "ipython",
    "version": 3
   },
   "file_extension": ".py",
   "mimetype": "text/x-python",
   "name": "python",
   "nbconvert_exporter": "python",
   "pygments_lexer": "ipython3",
   "version": "3.8.6"
  },
  "orig_nbformat": 4,
  "vscode": {
   "interpreter": {
    "hash": "da1a6d7c064f8fc2578b9ee538f1a4ac54606e313ff0e00c01b072831707cec3"
   }
  }
 },
 "nbformat": 4,
 "nbformat_minor": 2
}
